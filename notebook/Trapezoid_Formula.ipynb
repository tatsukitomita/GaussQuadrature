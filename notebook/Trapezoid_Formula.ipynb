{
 "cells": [
  {
   "cell_type": "code",
   "execution_count": 1,
   "id": "45fd81fd",
   "metadata": {},
   "outputs": [],
   "source": [
    "using Revise"
   ]
  },
  {
   "cell_type": "code",
   "execution_count": 2,
   "id": "2dd03e12",
   "metadata": {},
   "outputs": [
    {
     "data": {
      "text/plain": [
       "daikei (generic function with 1 method)"
      ]
     },
     "metadata": {},
     "output_type": "display_data"
    }
   ],
   "source": [
    "function daikei(f,N)\n",
    "    dk = 2π/(N-1)\n",
    "    fsum = 0\n",
    "    for i=1:N\n",
    "        k = (i-1)*dk - π\n",
    "        fsum += f(k)\n",
    "    end\n",
    "    fsum /= N\n",
    "    return fsum\n",
    "end"
   ]
  },
  {
   "cell_type": "code",
   "execution_count": 3,
   "id": "9cfdfd3f",
   "metadata": {},
   "outputs": [
    {
     "name": "stdout",
     "output_type": "stream",
     "text": [
      "daikei 3.3063587007826505, exact 3.2898681336964524\n"
     ]
    }
   ],
   "source": [
    "f(x) = sin(x) + x^2\n",
    "N = 400\n",
    "fsum = daikei(f,N)\n",
    "exact = ((π)^3/3 - (-π)^3/3)/(2π)\n",
    "println(\"daikei $fsum, exact $exact\")"
   ]
  }
 ],
 "metadata": {
  "kernelspec": {
   "display_name": "Julia 1.10.4",
   "language": "julia",
   "name": "julia-1.10"
  },
  "language_info": {
   "file_extension": ".jl",
   "mimetype": "application/julia",
   "name": "julia",
   "version": "1.10.4"
  }
 },
 "nbformat": 4,
 "nbformat_minor": 5
}
